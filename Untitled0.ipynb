{
  "nbformat": 4,
  "nbformat_minor": 0,
  "metadata": {
    "colab": {
      "provenance": [],
      "authorship_tag": "ABX9TyN+/mK9B6McuMw+4qhSZvHP",
      "include_colab_link": true
    },
    "kernelspec": {
      "name": "python3",
      "display_name": "Python 3"
    },
    "language_info": {
      "name": "python"
    }
  },
  "cells": [
    {
      "cell_type": "markdown",
      "metadata": {
        "id": "view-in-github",
        "colab_type": "text"
      },
      "source": [
        "<a href=\"https://colab.research.google.com/github/erigitola/-Random-User--Generator--using--API/blob/main/Untitled0.ipynb\" target=\"_parent\"><img src=\"https://colab.research.google.com/assets/colab-badge.svg\" alt=\"Open In Colab\"/></a>"
      ]
    },
    {
      "cell_type": "code",
      "execution_count": null,
      "metadata": {
        "id": "iR4Mk2wS2q-m",
        "colab": {
          "base_uri": "https://localhost:8080/"
        },
        "outputId": "00acc2cd-c150-4c98-a188-53e4ca866037"
      },
      "outputs": [
        {
          "output_type": "stream",
          "name": "stdout",
          "text": [
            "Requirement already satisfied: requests in /usr/local/lib/python3.11/dist-packages (2.32.3)\n",
            "Requirement already satisfied: charset-normalizer<4,>=2 in /usr/local/lib/python3.11/dist-packages (from requests) (3.4.2)\n",
            "Requirement already satisfied: idna<4,>=2.5 in /usr/local/lib/python3.11/dist-packages (from requests) (3.10)\n",
            "Requirement already satisfied: urllib3<3,>=1.21.1 in /usr/local/lib/python3.11/dist-packages (from requests) (2.4.0)\n",
            "Requirement already satisfied: certifi>=2017.4.17 in /usr/local/lib/python3.11/dist-packages (from requests) (2025.7.14)\n"
          ]
        }
      ],
      "source": [
        "!pip install requests"
      ]
    },
    {
      "cell_type": "code",
      "source": [
        "import requests"
      ],
      "metadata": {
        "id": "b0aN4XSIy6p3"
      },
      "execution_count": null,
      "outputs": []
    },
    {
      "cell_type": "code",
      "source": [
        "# get the data from the API web...\n",
        "base_url = \"https://randomuser.me/api\"\n",
        "\n",
        "response = requests.get(base_url)\n",
        "\n",
        "print(response)\n",
        "\n",
        "# Convert the json data into python format....\n",
        "data = response.json()\n",
        "\n",
        "for country in data['results']:\n",
        "  print(country['location']['country'])\n",
        "  print(country['name']['first'])\n",
        "  print(country['name']['last'])\n",
        "  print(country['gender'])\n",
        "  print(country['email'])\n",
        "  print(country['phone'])\n",
        "  print(country['dob']['date'])\n",
        "  print(country['dob']['age'])\n",
        "  print(country['picture']['medium'])\n",
        "  print(country['picture']['large'])\n"
      ],
      "metadata": {
        "colab": {
          "base_uri": "https://localhost:8080/"
        },
        "id": "JTsuu4z9zPy-",
        "outputId": "9d6855bb-1e82-4046-855a-802bc8cc48c3"
      },
      "execution_count": 9,
      "outputs": [
        {
          "output_type": "stream",
          "name": "stdout",
          "text": [
            "<Response [200]>\n",
            "Turkey\n",
            "Mestan\n",
            "Dağlaroğlu\n",
            "female\n",
            "mestan.daglaroglu@example.com\n",
            "(224)-167-7772\n",
            "1972-01-17T22:35:28.563Z\n",
            "53\n",
            "https://randomuser.me/api/portraits/med/women/66.jpg\n",
            "https://randomuser.me/api/portraits/women/66.jpg\n"
          ]
        }
      ]
    }
  ]
}